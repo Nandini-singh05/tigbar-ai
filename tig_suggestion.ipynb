{
 "cells": [
  {
   "cell_type": "code",
   "execution_count": 1,
   "metadata": {},
   "outputs": [],
   "source": [
    "import numpy as np\n",
    "import pandas as pd"
   ]
  },
  {
   "cell_type": "code",
   "execution_count": 2,
   "metadata": {},
   "outputs": [],
   "source": [
    "new_df = pd.read_csv('tig_suggestion.csv')"
   ]
  },
  {
   "cell_type": "code",
   "execution_count": 3,
   "metadata": {},
   "outputs": [
    {
     "data": {
      "text/html": [
       "<div>\n",
       "<style scoped>\n",
       "    .dataframe tbody tr th:only-of-type {\n",
       "        vertical-align: middle;\n",
       "    }\n",
       "\n",
       "    .dataframe tbody tr th {\n",
       "        vertical-align: top;\n",
       "    }\n",
       "\n",
       "    .dataframe thead th {\n",
       "        text-align: right;\n",
       "    }\n",
       "</style>\n",
       "<table border=\"1\" class=\"dataframe\">\n",
       "  <thead>\n",
       "    <tr style=\"text-align: right;\">\n",
       "      <th></th>\n",
       "      <th>Interest</th>\n",
       "      <th>Item</th>\n",
       "      <th>ChallengeName</th>\n",
       "      <th>Description</th>\n",
       "    </tr>\n",
       "  </thead>\n",
       "  <tbody>\n",
       "    <tr>\n",
       "      <th>0</th>\n",
       "      <td>Sports</td>\n",
       "      <td>Soccer Ball</td>\n",
       "      <td>Soccer Ball Dribbling</td>\n",
       "      <td>Using the feet to control the soccer ball whil...</td>\n",
       "    </tr>\n",
       "    <tr>\n",
       "      <th>1</th>\n",
       "      <td>Sports</td>\n",
       "      <td>Basketball</td>\n",
       "      <td>Basketball Shooting</td>\n",
       "      <td>Throwing the basketball into the hoop from var...</td>\n",
       "    </tr>\n",
       "    <tr>\n",
       "      <th>2</th>\n",
       "      <td>Sports</td>\n",
       "      <td>Tennis Racket</td>\n",
       "      <td>Tennis Racket Forehand Stroke</td>\n",
       "      <td>Hitting the tennis ball with the front side of...</td>\n",
       "    </tr>\n",
       "    <tr>\n",
       "      <th>3</th>\n",
       "      <td>Sports</td>\n",
       "      <td>Baseball Bat</td>\n",
       "      <td>Baseball Bat Hitting</td>\n",
       "      <td>Swinging the baseball bat to make contact with...</td>\n",
       "    </tr>\n",
       "    <tr>\n",
       "      <th>4</th>\n",
       "      <td>Sports</td>\n",
       "      <td>Golf Club</td>\n",
       "      <td>Golf Club Putting</td>\n",
       "      <td>Using the golf club to gently hit the golf bal...</td>\n",
       "    </tr>\n",
       "  </tbody>\n",
       "</table>\n",
       "</div>"
      ],
      "text/plain": [
       "  Interest           Item                  ChallengeName  \\\n",
       "0   Sports   Soccer Ball           Soccer Ball Dribbling   \n",
       "1   Sports     Basketball            Basketball Shooting   \n",
       "2   Sports  Tennis Racket  Tennis Racket Forehand Stroke   \n",
       "3   Sports   Baseball Bat           Baseball Bat Hitting   \n",
       "4   Sports      Golf Club              Golf Club Putting   \n",
       "\n",
       "                                         Description  \n",
       "0  Using the feet to control the soccer ball whil...  \n",
       "1  Throwing the basketball into the hoop from var...  \n",
       "2  Hitting the tennis ball with the front side of...  \n",
       "3  Swinging the baseball bat to make contact with...  \n",
       "4  Using the golf club to gently hit the golf bal...  "
      ]
     },
     "execution_count": 3,
     "metadata": {},
     "output_type": "execute_result"
    }
   ],
   "source": [
    "new_df.head()"
   ]
  },
  {
   "cell_type": "code",
   "execution_count": 4,
   "metadata": {},
   "outputs": [
    {
     "name": "stdout",
     "output_type": "stream",
     "text": [
      "<class 'pandas.core.frame.DataFrame'>\n",
      "RangeIndex: 448 entries, 0 to 447\n",
      "Data columns (total 4 columns):\n",
      " #   Column         Non-Null Count  Dtype \n",
      "---  ------         --------------  ----- \n",
      " 0   Interest       448 non-null    object\n",
      " 1   Item           448 non-null    object\n",
      " 2   ChallengeName  448 non-null    object\n",
      " 3   Description    448 non-null    object\n",
      "dtypes: object(4)\n",
      "memory usage: 14.1+ KB\n"
     ]
    }
   ],
   "source": [
    "new_df.info()"
   ]
  },
  {
   "cell_type": "code",
   "execution_count": 5,
   "metadata": {},
   "outputs": [
    {
     "data": {
      "text/plain": [
       "0      Using the feet to control the soccer ball whil...\n",
       "1      Throwing the basketball into the hoop from var...\n",
       "2      Hitting the tennis ball with the front side of...\n",
       "3      Swinging the baseball bat to make contact with...\n",
       "4      Using the golf club to gently hit the golf bal...\n",
       "                             ...                        \n",
       "443    Create a meal planning template and engage in ...\n",
       "444    Bike to work or school instead of driving for ...\n",
       "445    Use plant-based and natural skincare products ...\n",
       "446    Set up a rainwater harvesting kit to collect r...\n",
       "447    Use an eco-friendly phone case made from susta...\n",
       "Name: Description, Length: 448, dtype: object"
      ]
     },
     "execution_count": 5,
     "metadata": {},
     "output_type": "execute_result"
    }
   ],
   "source": [
    "new_df['Description']"
   ]
  },
  {
   "cell_type": "code",
   "execution_count": 6,
   "metadata": {},
   "outputs": [
    {
     "data": {
      "text/plain": [
       "'Throwing the basketball into the hoop from various distances and angles, aiming for accuracy and consistent form.'"
      ]
     },
     "execution_count": 6,
     "metadata": {},
     "output_type": "execute_result"
    }
   ],
   "source": [
    "new_df['Description'][1]"
   ]
  },
  {
   "cell_type": "code",
   "execution_count": 7,
   "metadata": {},
   "outputs": [],
   "source": [
    "from sklearn.feature_extraction.text import CountVectorizer\n",
    "cv = CountVectorizer(max_features=2000,stop_words='english')"
   ]
  },
  {
   "cell_type": "code",
   "execution_count": 8,
   "metadata": {},
   "outputs": [],
   "source": [
    "vector = cv.fit_transform(new_df['Description']).toarray()"
   ]
  },
  {
   "cell_type": "code",
   "execution_count": 9,
   "metadata": {},
   "outputs": [
    {
     "data": {
      "text/plain": [
       "(448, 2000)"
      ]
     },
     "execution_count": 9,
     "metadata": {},
     "output_type": "execute_result"
    }
   ],
   "source": [
    "vector.shape"
   ]
  },
  {
   "cell_type": "code",
   "execution_count": 10,
   "metadata": {},
   "outputs": [
    {
     "data": {
      "text/plain": [
       "array([0, 0, 0, ..., 0, 0, 0], dtype=int64)"
      ]
     },
     "execution_count": 10,
     "metadata": {},
     "output_type": "execute_result"
    }
   ],
   "source": [
    "vector[0]"
   ]
  },
  {
   "cell_type": "code",
   "execution_count": 11,
   "metadata": {},
   "outputs": [
    {
     "data": {
      "text/plain": [
       "array(['30', 'absorbing', 'abstract', ..., 'zester', 'zip', 'ziplock'],\n",
       "      dtype=object)"
      ]
     },
     "execution_count": 11,
     "metadata": {},
     "output_type": "execute_result"
    }
   ],
   "source": [
    "(cv.get_feature_names_out())"
   ]
  },
  {
   "cell_type": "code",
   "execution_count": 12,
   "metadata": {},
   "outputs": [
    {
     "data": {
      "text/plain": [
       "131"
      ]
     },
     "execution_count": 12,
     "metadata": {},
     "output_type": "execute_result"
    }
   ],
   "source": [
    "len(new_df['Description'][0])"
   ]
  },
  {
   "cell_type": "code",
   "execution_count": 13,
   "metadata": {},
   "outputs": [
    {
     "data": {
      "text/plain": [
       "array([0, 0, 0, ..., 0, 0, 0], dtype=int64)"
      ]
     },
     "execution_count": 13,
     "metadata": {},
     "output_type": "execute_result"
    }
   ],
   "source": [
    "vector[0]"
   ]
  },
  {
   "cell_type": "code",
   "execution_count": 14,
   "metadata": {},
   "outputs": [
    {
     "data": {
      "text/html": [
       "<style>#sk-container-id-1 {color: black;background-color: white;}#sk-container-id-1 pre{padding: 0;}#sk-container-id-1 div.sk-toggleable {background-color: white;}#sk-container-id-1 label.sk-toggleable__label {cursor: pointer;display: block;width: 100%;margin-bottom: 0;padding: 0.3em;box-sizing: border-box;text-align: center;}#sk-container-id-1 label.sk-toggleable__label-arrow:before {content: \"▸\";float: left;margin-right: 0.25em;color: #696969;}#sk-container-id-1 label.sk-toggleable__label-arrow:hover:before {color: black;}#sk-container-id-1 div.sk-estimator:hover label.sk-toggleable__label-arrow:before {color: black;}#sk-container-id-1 div.sk-toggleable__content {max-height: 0;max-width: 0;overflow: hidden;text-align: left;background-color: #f0f8ff;}#sk-container-id-1 div.sk-toggleable__content pre {margin: 0.2em;color: black;border-radius: 0.25em;background-color: #f0f8ff;}#sk-container-id-1 input.sk-toggleable__control:checked~div.sk-toggleable__content {max-height: 200px;max-width: 100%;overflow: auto;}#sk-container-id-1 input.sk-toggleable__control:checked~label.sk-toggleable__label-arrow:before {content: \"▾\";}#sk-container-id-1 div.sk-estimator input.sk-toggleable__control:checked~label.sk-toggleable__label {background-color: #d4ebff;}#sk-container-id-1 div.sk-label input.sk-toggleable__control:checked~label.sk-toggleable__label {background-color: #d4ebff;}#sk-container-id-1 input.sk-hidden--visually {border: 0;clip: rect(1px 1px 1px 1px);clip: rect(1px, 1px, 1px, 1px);height: 1px;margin: -1px;overflow: hidden;padding: 0;position: absolute;width: 1px;}#sk-container-id-1 div.sk-estimator {font-family: monospace;background-color: #f0f8ff;border: 1px dotted black;border-radius: 0.25em;box-sizing: border-box;margin-bottom: 0.5em;}#sk-container-id-1 div.sk-estimator:hover {background-color: #d4ebff;}#sk-container-id-1 div.sk-parallel-item::after {content: \"\";width: 100%;border-bottom: 1px solid gray;flex-grow: 1;}#sk-container-id-1 div.sk-label:hover label.sk-toggleable__label {background-color: #d4ebff;}#sk-container-id-1 div.sk-serial::before {content: \"\";position: absolute;border-left: 1px solid gray;box-sizing: border-box;top: 0;bottom: 0;left: 50%;z-index: 0;}#sk-container-id-1 div.sk-serial {display: flex;flex-direction: column;align-items: center;background-color: white;padding-right: 0.2em;padding-left: 0.2em;position: relative;}#sk-container-id-1 div.sk-item {position: relative;z-index: 1;}#sk-container-id-1 div.sk-parallel {display: flex;align-items: stretch;justify-content: center;background-color: white;position: relative;}#sk-container-id-1 div.sk-item::before, #sk-container-id-1 div.sk-parallel-item::before {content: \"\";position: absolute;border-left: 1px solid gray;box-sizing: border-box;top: 0;bottom: 0;left: 50%;z-index: -1;}#sk-container-id-1 div.sk-parallel-item {display: flex;flex-direction: column;z-index: 1;position: relative;background-color: white;}#sk-container-id-1 div.sk-parallel-item:first-child::after {align-self: flex-end;width: 50%;}#sk-container-id-1 div.sk-parallel-item:last-child::after {align-self: flex-start;width: 50%;}#sk-container-id-1 div.sk-parallel-item:only-child::after {width: 0;}#sk-container-id-1 div.sk-dashed-wrapped {border: 1px dashed gray;margin: 0 0.4em 0.5em 0.4em;box-sizing: border-box;padding-bottom: 0.4em;background-color: white;}#sk-container-id-1 div.sk-label label {font-family: monospace;font-weight: bold;display: inline-block;line-height: 1.2em;}#sk-container-id-1 div.sk-label-container {text-align: center;}#sk-container-id-1 div.sk-container {/* jupyter's `normalize.less` sets `[hidden] { display: none; }` but bootstrap.min.css set `[hidden] { display: none !important; }` so we also need the `!important` here to be able to override the default hidden behavior on the sphinx rendered scikit-learn.org. See: https://github.com/scikit-learn/scikit-learn/issues/21755 */display: inline-block !important;position: relative;}#sk-container-id-1 div.sk-text-repr-fallback {display: none;}</style><div id=\"sk-container-id-1\" class=\"sk-top-container\"><div class=\"sk-text-repr-fallback\"><pre>CountVectorizer(max_features=2000, stop_words=&#x27;english&#x27;)</pre><b>In a Jupyter environment, please rerun this cell to show the HTML representation or trust the notebook. <br />On GitHub, the HTML representation is unable to render, please try loading this page with nbviewer.org.</b></div><div class=\"sk-container\" hidden><div class=\"sk-item\"><div class=\"sk-estimator sk-toggleable\"><input class=\"sk-toggleable__control sk-hidden--visually\" id=\"sk-estimator-id-1\" type=\"checkbox\" checked><label for=\"sk-estimator-id-1\" class=\"sk-toggleable__label sk-toggleable__label-arrow\">CountVectorizer</label><div class=\"sk-toggleable__content\"><pre>CountVectorizer(max_features=2000, stop_words=&#x27;english&#x27;)</pre></div></div></div></div></div>"
      ],
      "text/plain": [
       "CountVectorizer(max_features=2000, stop_words='english')"
      ]
     },
     "execution_count": 14,
     "metadata": {},
     "output_type": "execute_result"
    }
   ],
   "source": [
    "cv"
   ]
  },
  {
   "cell_type": "code",
   "execution_count": 15,
   "metadata": {},
   "outputs": [],
   "source": [
    "from sklearn.metrics.pairwise import cosine_similarity"
   ]
  },
  {
   "cell_type": "code",
   "execution_count": 16,
   "metadata": {},
   "outputs": [],
   "source": [
    "similarity = cosine_similarity(vector)"
   ]
  },
  {
   "cell_type": "code",
   "execution_count": 17,
   "metadata": {},
   "outputs": [
    {
     "data": {
      "text/plain": [
       "array([[1.        , 0.        , 0.20100756, ..., 0.        , 0.        ,\n",
       "        0.        ],\n",
       "       [0.        , 1.        , 0.        , ..., 0.        , 0.        ,\n",
       "        0.        ],\n",
       "       [0.20100756, 0.        , 1.        , ..., 0.        , 0.        ,\n",
       "        0.        ],\n",
       "       ...,\n",
       "       [0.        , 0.        , 0.        , ..., 1.        , 0.07692308,\n",
       "        0.16012815],\n",
       "       [0.        , 0.        , 0.        , ..., 0.07692308, 1.        ,\n",
       "        0.        ],\n",
       "       [0.        , 0.        , 0.        , ..., 0.16012815, 0.        ,\n",
       "        1.        ]])"
      ]
     },
     "execution_count": 17,
     "metadata": {},
     "output_type": "execute_result"
    }
   ],
   "source": [
    "similarity"
   ]
  },
  {
   "cell_type": "code",
   "execution_count": 18,
   "metadata": {},
   "outputs": [
    {
     "data": {
      "text/plain": [
       "(448, 448)"
      ]
     },
     "execution_count": 18,
     "metadata": {},
     "output_type": "execute_result"
    }
   ],
   "source": [
    "cosine_similarity(vector).shape"
   ]
  },
  {
   "cell_type": "code",
   "execution_count": 19,
   "metadata": {},
   "outputs": [
    {
     "data": {
      "text/plain": [
       "array([1.        , 0.        , 0.20100756, 0.        , 0.1672484 ,\n",
       "       0.0836242 , 0.09090909, 0.07312724, 0.        , 0.09090909,\n",
       "       0.        , 0.15075567, 0.        , 0.        , 0.0836242 ,\n",
       "       0.        , 0.09090909, 0.        , 0.09090909, 0.0836242 ,\n",
       "       0.0836242 , 0.0836242 , 0.        , 0.08703883, 0.        ,\n",
       "       0.        , 0.        , 0.        , 0.        , 0.        ,\n",
       "       0.        , 0.        , 0.        , 0.        , 0.        ,\n",
       "       0.08703883, 0.        , 0.        , 0.        , 0.        ,\n",
       "       0.08703883, 0.        , 0.        , 0.0805823 , 0.08703883,\n",
       "       0.        , 0.        , 0.0836242 , 0.08703883, 0.0836242 ,\n",
       "       0.        , 0.        , 0.07784989, 0.        , 0.09090909,\n",
       "       0.08703883, 0.0805823 , 0.08703883, 0.        , 0.06428243,\n",
       "       0.        , 0.        , 0.        , 0.        , 0.        ,\n",
       "       0.        , 0.        , 0.        , 0.        , 0.09534626,\n",
       "       0.        , 0.        , 0.31980107, 0.        , 0.        ,\n",
       "       0.        , 0.        , 0.        , 0.        , 0.        ,\n",
       "       0.        , 0.        , 0.09090909, 0.        , 0.07784989,\n",
       "       0.        , 0.0805823 , 0.09090909, 0.08703883, 0.0836242 ,\n",
       "       0.        , 0.        , 0.10050378, 0.        , 0.0836242 ,\n",
       "       0.        , 0.10050378, 0.09090909, 0.        , 0.        ,\n",
       "       0.        , 0.09090909, 0.        , 0.10050378, 0.08703883,\n",
       "       0.        , 0.        , 0.        , 0.        , 0.09534626,\n",
       "       0.        , 0.09090909, 0.        , 0.        , 0.        ,\n",
       "       0.        , 0.09090909, 0.09534626, 0.08703883, 0.        ,\n",
       "       0.        , 0.        , 0.        , 0.        , 0.        ,\n",
       "       0.        , 0.        , 0.        , 0.        , 0.        ,\n",
       "       0.        , 0.        , 0.        , 0.        , 0.        ,\n",
       "       0.        , 0.        , 0.        , 0.        , 0.        ,\n",
       "       0.08703883, 0.0836242 , 0.0836242 , 0.        , 0.        ,\n",
       "       0.        , 0.        , 0.        , 0.09090909, 0.        ,\n",
       "       0.        , 0.        , 0.        , 0.        , 0.        ,\n",
       "       0.        , 0.        , 0.        , 0.        , 0.        ,\n",
       "       0.08703883, 0.        , 0.0836242 , 0.09534626, 0.        ,\n",
       "       0.        , 0.08703883, 0.08703883, 0.        , 0.        ,\n",
       "       0.09090909, 0.        , 0.09090909, 0.        , 0.09090909,\n",
       "       0.        , 0.        , 0.        , 0.        , 0.        ,\n",
       "       0.        , 0.        , 0.08703883, 0.        , 0.        ,\n",
       "       0.        , 0.        , 0.        , 0.07106691, 0.        ,\n",
       "       0.        , 0.        , 0.19069252, 0.        , 0.        ,\n",
       "       0.        , 0.        , 0.        , 0.        , 0.15075567,\n",
       "       0.08703883, 0.10660036, 0.        , 0.        , 0.        ,\n",
       "       0.        , 0.        , 0.        , 0.09090909, 0.        ,\n",
       "       0.        , 0.        , 0.        , 0.        , 0.09090909,\n",
       "       0.        , 0.        , 0.        , 0.        , 0.        ,\n",
       "       0.        , 0.        , 0.        , 0.        , 0.        ,\n",
       "       0.        , 0.        , 0.        , 0.        , 0.        ,\n",
       "       0.        , 0.        , 0.        , 0.        , 0.        ,\n",
       "       0.        , 0.        , 0.        , 0.        , 0.        ,\n",
       "       0.        , 0.08703883, 0.08703883, 0.07106691, 0.07784989,\n",
       "       0.        , 0.09090909, 0.        , 0.        , 0.        ,\n",
       "       0.09090909, 0.        , 0.10050378, 0.        , 0.        ,\n",
       "       0.        , 0.        , 0.        , 0.        , 0.0805823 ,\n",
       "       0.        , 0.        , 0.        , 0.        , 0.09534626,\n",
       "       0.07784989, 0.        , 0.        , 0.09090909, 0.        ,\n",
       "       0.        , 0.        , 0.08703883, 0.        , 0.08703883,\n",
       "       0.        , 0.        , 0.        , 0.        , 0.        ,\n",
       "       0.        , 0.08703883, 0.        , 0.        , 0.        ,\n",
       "       0.08703883, 0.        , 0.        , 0.        , 0.        ,\n",
       "       0.        , 0.        , 0.        , 0.        , 0.        ,\n",
       "       0.        , 0.        , 0.        , 0.        , 0.        ,\n",
       "       0.0836242 , 0.16116459, 0.08703883, 0.07312724, 0.        ,\n",
       "       0.        , 0.        , 0.        , 0.        , 0.        ,\n",
       "       0.        , 0.        , 0.07537784, 0.        , 0.08703883,\n",
       "       0.        , 0.0836242 , 0.        , 0.        , 0.        ,\n",
       "       0.        , 0.        , 0.        , 0.08703883, 0.        ,\n",
       "       0.        , 0.07312724, 0.        , 0.        , 0.        ,\n",
       "       0.        , 0.        , 0.        , 0.        , 0.        ,\n",
       "       0.        , 0.        , 0.        , 0.        , 0.09090909,\n",
       "       0.        , 0.        , 0.        , 0.13483997, 0.        ,\n",
       "       0.        , 0.        , 0.        , 0.        , 0.        ,\n",
       "       0.07784989, 0.        , 0.        , 0.09090909, 0.        ,\n",
       "       0.        , 0.        , 0.        , 0.        , 0.        ,\n",
       "       0.        , 0.        , 0.13483997, 0.        , 0.        ,\n",
       "       0.        , 0.        , 0.        , 0.        , 0.        ,\n",
       "       0.        , 0.        , 0.        , 0.07537784, 0.07784989,\n",
       "       0.07784989, 0.        , 0.        , 0.        , 0.0805823 ,\n",
       "       0.        , 0.        , 0.        , 0.        , 0.08703883,\n",
       "       0.        , 0.16116459, 0.        , 0.        , 0.        ,\n",
       "       0.08703883, 0.        , 0.0805823 , 0.        , 0.        ,\n",
       "       0.        , 0.0805823 , 0.0836242 , 0.        , 0.        ,\n",
       "       0.12309149, 0.        , 0.10050378, 0.09534626, 0.        ,\n",
       "       0.09090909, 0.        , 0.        , 0.        , 0.        ,\n",
       "       0.        , 0.        , 0.08703883, 0.        , 0.        ,\n",
       "       0.        , 0.0836242 , 0.        , 0.        , 0.        ,\n",
       "       0.07784989, 0.        , 0.09090909, 0.        , 0.        ,\n",
       "       0.        , 0.        , 0.        , 0.        , 0.        ,\n",
       "       0.        , 0.        , 0.        , 0.0836242 , 0.        ,\n",
       "       0.        , 0.        , 0.        , 0.        , 0.        ,\n",
       "       0.        , 0.        , 0.        , 0.        , 0.        ,\n",
       "       0.        , 0.        , 0.        ])"
      ]
     },
     "execution_count": 19,
     "metadata": {},
     "output_type": "execute_result"
    }
   ],
   "source": [
    "similarity[0]"
   ]
  },
  {
   "cell_type": "code",
   "execution_count": 28,
   "metadata": {},
   "outputs": [],
   "source": [
    "def recommend(tig_name):\n",
    "    nl = '\\n'\n",
    "    index = new_df[new_df['ChallengeName'] == tig_name].index[0]\n",
    "    distances = sorted(list(enumerate(similarity[index])),reverse=True,key = lambda x: x[1])\n",
    "    for i in distances[1:6]:\n",
    "        print(f\"Challenge Name : {new_df.iloc[i[0]].ChallengeName} {nl}Challenge Description : {new_df.iloc[i[0]].Description}\")        "
   ]
  },
  {
   "cell_type": "code",
   "execution_count": 32,
   "metadata": {},
   "outputs": [
    {
     "name": "stdout",
     "output_type": "stream",
     "text": [
      "Challenge Name : Tennis Racket Forehand Stroke \n",
      "Challenge Description : Hitting the tennis ball with the front side of the racket while maintaining proper technique and generating power and spin.\n",
      "Challenge Name : Rugby Ball Tackling \n",
      "Challenge Description : Bringing down the opponent carrying the rugby ball by grasping and pulling them to the ground during a rugby match.\n",
      "Challenge Name : Table Tennis Paddle Backhand Loop \n",
      "Challenge Description : Using the backhand stroke with the table tennis paddle to generate topspin and loop the ball over the net during a table tennis match.\n",
      "Challenge Name : Volleyball Spiking \n",
      "Challenge Description : Jumping and hitting the volleyball forcefully downward into the opponent's court, often done near the net.\n",
      "Challenge Name : Badminton Shuttlecock Smash Shot \n",
      "Challenge Description : Hitting the badminton shuttlecock with a swift and forceful downward motion to put it past the opponent \n"
     ]
    }
   ],
   "source": [
    "recommend('Cricket Bat Batting')\n"
   ]
  },
  {
   "cell_type": "code",
   "execution_count": 33,
   "metadata": {},
   "outputs": [],
   "source": [
    "import pickle"
   ]
  },
  {
   "cell_type": "code",
   "execution_count": 31,
   "metadata": {},
   "outputs": [],
   "source": [
    "pickle.dump(new_df,open('tig_list.pkl','wb'))\n",
    "pickle.dump(similarity,open('similarity.pkl','wb'))"
   ]
  },
  {
   "cell_type": "code",
   "execution_count": null,
   "metadata": {},
   "outputs": [],
   "source": []
  }
 ],
 "metadata": {
  "kernelspec": {
   "display_name": "Python 3",
   "language": "python",
   "name": "python3"
  },
  "language_info": {
   "codemirror_mode": {
    "name": "ipython",
    "version": 3
   },
   "file_extension": ".py",
   "mimetype": "text/x-python",
   "name": "python",
   "nbconvert_exporter": "python",
   "pygments_lexer": "ipython3",
   "version": "3.10.8"
  },
  "orig_nbformat": 4
 },
 "nbformat": 4,
 "nbformat_minor": 2
}
